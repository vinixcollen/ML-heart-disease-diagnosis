{
  "nbformat": 4,
  "nbformat_minor": 0,
  "metadata": {
    "colab": {
      "provenance": [],
      "authorship_tag": "ABX9TyNpOL9lNX7UIeVt5h8JS4+7",
      "include_colab_link": true
    },
    "kernelspec": {
      "name": "python3",
      "display_name": "Python 3"
    },
    "language_info": {
      "name": "python"
    }
  },
  "cells": [
    {
      "cell_type": "markdown",
      "metadata": {
        "id": "view-in-github",
        "colab_type": "text"
      },
      "source": [
        "<a href=\"https://colab.research.google.com/github/vinixcollen/ML-heart-disease-diagnosis/blob/main/Heart_Disease_Diagnosis_Model.ipynb\" target=\"_parent\"><img src=\"https://colab.research.google.com/assets/colab-badge.svg\" alt=\"Open In Colab\"/></a>"
      ]
    },
    {
      "cell_type": "markdown",
      "source": [
        "# A2: Heart Disease Diagnosis Model\n",
        "\n"
      ],
      "metadata": {
        "id": "rNwA8TYKyEIl"
      }
    },
    {
      "cell_type": "markdown",
      "source": [
        "##Problem Definition"
      ],
      "metadata": {
        "id": "zIfz3WbtrmYx"
      }
    },
    {
      "cell_type": "markdown",
      "source": [
        "**Problem Definition:**\n",
        "\n",
        "According to World Health Organisation (WHO) (2025), cardiovascular diseases (CVDs) are the leading cause of death globally, with early detection being critical for effective intervention and treatment. Current diagnostic protocols often rely on expensive tests like angiograms and require specialist interpretation, creating barriers to accessibility, especially in primary care settings and underserved communities."
      ],
      "metadata": {
        "id": "uVMdEZVVqhGG"
      }
    },
    {
      "cell_type": "markdown",
      "source": [
        "**Objective:**\n",
        "\n",
        "Develop a binary classification system that accurately predicts the presence of heart disease using 13 readily available clinical features, serving as an accessible screening tool to assist healthcare providers in making informed referral decisions."
      ],
      "metadata": {
        "id": "Z0ug3m-4um0w"
      }
    },
    {
      "cell_type": "markdown",
      "source": [
        "##Task Specification"
      ],
      "metadata": {
        "id": "2PzcKd3HvAhh"
      }
    },
    {
      "cell_type": "markdown",
      "source": [
        "###Input Specification\n",
        "\n",
        "**Data Source:** [UCI Heart Disease Dataset](https://archive.ics.uci.edu/dataset/45/heart+disease)\n",
        "\n",
        "**Feature Set** (13 clinical parameters):\n",
        "1. age (years)\n",
        "2. sex (male/female)\n",
        "3. chest pain type (typical angina, atypical atypical angina, non-anginal, asymptomatic)\n",
        "4. Resting blood pressure (mm Hg)\n",
        "5. Serum cholesterol (mg/dl)\n",
        "6. Fasting blood sugar > 120 mg/dl (yes / no)\n",
        "7. Resting ECG results (normal / ST-T abnormality / left ventricular hypertrophy)\n",
        "8. Maximum heart rate achieved (thalach)\n",
        "9. Exercise induced angina (yes / no)\n",
        "10. ST depression induced by exercise relative to rest (oldpeak)\n",
        "11. Slope of the peak exercise ST segment (upsloping / flat / downsloping)\n",
        "12. Number of major vessels (0–3) colored by fluoroscopy (ca)\n",
        "13. Thallium stress test result (thal)"
      ],
      "metadata": {
        "id": "XwPRiSZXvK78"
      }
    },
    {
      "cell_type": "markdown",
      "source": [
        "###Output (Target/Label)\n",
        "The original UCI Heart Disease dataset defines the target variable num as integers from 0 to 4, where 0 indicates no heart disease and 1 - 4 indicate varying degrees of heart disease. For this project, the target was converted into a binary classification problem:\n",
        "- 0 - No heart disease\n",
        "- 1 (aggregated from 1, 2, 3, and 4) - Presence of heart diseas\n",
        "\n"
      ],
      "metadata": {
        "id": "wnV1-qMcw_aB"
      }
    },
    {
      "cell_type": "markdown",
      "source": [
        "## Data Collection & Preparation"
      ],
      "metadata": {
        "id": "8slqOB1zrrsT"
      }
    },
    {
      "cell_type": "code",
      "source": [
        "# Install required packages\n",
        "!pip install ucimlrepo\n",
        "\n",
        "import pandas as pd\n",
        "import numpy as np\n",
        "import matplotlib.pyplot as plt\n",
        "import seaborn as sns\n",
        "from sklearn.model_selection import train_test_split, GridSearchCV, StratifiedKFold\n",
        "from sklearn.preprocessing import LabelEncoder\n",
        "from sklearn.ensemble import RandomForestClassifier\n",
        "from sklearn.metrics import (classification_report, confusion_matrix, roc_auc_score,\n",
        "                           accuracy_score, precision_score, recall_score, f1_score,\n",
        "                           roc_curve, precision_recall_curve, average_precision_score)\n",
        "import joblib\n",
        "import warnings\n",
        "warnings.filterwarnings('ignore')\n",
        "\n",
        "# Set random seeds for reproducibility\n",
        "np.random.seed(42)"
      ],
      "metadata": {
        "colab": {
          "base_uri": "https://localhost:8080/"
        },
        "id": "Sv-WZrOJP07o",
        "outputId": "bee46cee-ca6e-4032-8aea-480973beb7d1"
      },
      "execution_count": 1,
      "outputs": [
        {
          "output_type": "stream",
          "name": "stdout",
          "text": [
            "Collecting ucimlrepo\n",
            "  Downloading ucimlrepo-0.0.7-py3-none-any.whl.metadata (5.5 kB)\n",
            "Requirement already satisfied: pandas>=1.0.0 in /usr/local/lib/python3.12/dist-packages (from ucimlrepo) (2.2.2)\n",
            "Requirement already satisfied: certifi>=2020.12.5 in /usr/local/lib/python3.12/dist-packages (from ucimlrepo) (2025.8.3)\n",
            "Requirement already satisfied: numpy>=1.26.0 in /usr/local/lib/python3.12/dist-packages (from pandas>=1.0.0->ucimlrepo) (2.0.2)\n",
            "Requirement already satisfied: python-dateutil>=2.8.2 in /usr/local/lib/python3.12/dist-packages (from pandas>=1.0.0->ucimlrepo) (2.9.0.post0)\n",
            "Requirement already satisfied: pytz>=2020.1 in /usr/local/lib/python3.12/dist-packages (from pandas>=1.0.0->ucimlrepo) (2025.2)\n",
            "Requirement already satisfied: tzdata>=2022.7 in /usr/local/lib/python3.12/dist-packages (from pandas>=1.0.0->ucimlrepo) (2025.2)\n",
            "Requirement already satisfied: six>=1.5 in /usr/local/lib/python3.12/dist-packages (from python-dateutil>=2.8.2->pandas>=1.0.0->ucimlrepo) (1.17.0)\n",
            "Downloading ucimlrepo-0.0.7-py3-none-any.whl (8.0 kB)\n",
            "Installing collected packages: ucimlrepo\n",
            "Successfully installed ucimlrepo-0.0.7\n"
          ]
        }
      ]
    },
    {
      "cell_type": "code",
      "source": [
        "# Fetch dataset\n",
        "from ucimlrepo import fetch_ucirepo\n",
        "heart_disease = fetch_ucirepo(id=45)\n",
        "\n",
        "# Data (as pandas dataframes)\n",
        "X = heart_disease.data.features\n",
        "y = heart_disease.data.targets"
      ],
      "metadata": {
        "id": "fG1madk8ShLr"
      },
      "execution_count": 2,
      "outputs": []
    },
    {
      "cell_type": "markdown",
      "source": [
        "## Data Exploration"
      ],
      "metadata": {
        "id": "3MQB7dEzruoU"
      }
    },
    {
      "cell_type": "code",
      "source": [
        "# Understand the target variable\n",
        "print(\"TARGET VARIABLE ANALYSIS:\")\n",
        "print(\"Original target values (0-4):\")\n",
        "target_counts = y['num'].value_counts().sort_index()\n",
        "for val, count in target_counts.items():\n",
        "    severity = {\n",
        "        0: \"No heart disease\",\n",
        "        1: \"Mild disease\",\n",
        "        2: \"Moderate disease\",\n",
        "        3: \"Severe disease\",\n",
        "        4: \"Very severe disease\"\n",
        "    }\n",
        "    print(f\"  {val}: {count} patients ({severity[val]})\")\n",
        "\n",
        "# Convert to binary classification (Clinical decision point)\n",
        "y_binary = (y['num'] > 0).astype(int)\n",
        "print(f\"\\nBinary conversion: {y_binary.value_counts()[0]} healthy vs {y_binary.value_counts()[1]} diseased\")\n",
        "print(f\"Disease prevalence: {y_binary.mean():.2%}\")\n",
        "\n",
        "# Analyze feature distributions and missing values\n",
        "print(\"\\nFEATURE ANALYSIS:\")\n",
        "print(\"Missing values per feature:\")\n",
        "print(X.isnull().sum())\n",
        "print(f\"Total missing values: {X.isnull().sum().sum()}\")\n",
        "\n",
        "# Basic statistics\n",
        "print(\"\\nDataset statistics:\")\n",
        "print(f\"Total patients: {len(X)}\")\n",
        "print(f\"Features available: {len(X.columns)}\")\n",
        "print(f\"Data types: {X.dtypes.value_counts().to_dict()}\")"
      ],
      "metadata": {
        "colab": {
          "base_uri": "https://localhost:8080/"
        },
        "id": "HjwbZ9UYTj2J",
        "outputId": "f5174881-e336-4c7a-a266-2e23ef888aab"
      },
      "execution_count": 3,
      "outputs": [
        {
          "output_type": "stream",
          "name": "stdout",
          "text": [
            "TARGET VARIABLE ANALYSIS:\n",
            "Original target values (0-4):\n",
            "  0: 164 patients (No heart disease)\n",
            "  1: 55 patients (Mild disease)\n",
            "  2: 36 patients (Moderate disease)\n",
            "  3: 35 patients (Severe disease)\n",
            "  4: 13 patients (Very severe disease)\n",
            "\n",
            "Binary conversion: 164 healthy vs 139 diseased\n",
            "Disease prevalence: 45.87%\n",
            "\n",
            "FEATURE ANALYSIS:\n",
            "Missing values per feature:\n",
            "age         0\n",
            "sex         0\n",
            "cp          0\n",
            "trestbps    0\n",
            "chol        0\n",
            "fbs         0\n",
            "restecg     0\n",
            "thalach     0\n",
            "exang       0\n",
            "oldpeak     0\n",
            "slope       0\n",
            "ca          4\n",
            "thal        2\n",
            "dtype: int64\n",
            "Total missing values: 6\n",
            "\n",
            "Dataset statistics:\n",
            "Total patients: 303\n",
            "Features available: 13\n",
            "Data types: {dtype('int64'): 10, dtype('float64'): 3}\n"
          ]
        }
      ]
    },
    {
      "cell_type": "markdown",
      "source": [
        "## Data Preprocessing"
      ],
      "metadata": {
        "id": "CBIiTtqFaAk-"
      }
    },
    {
      "cell_type": "markdown",
      "source": [
        "### Data Splitting"
      ],
      "metadata": {
        "id": "RRUQi91bKxgm"
      }
    },
    {
      "cell_type": "code",
      "source": [
        "# First split: 10% for test\n",
        "X_train_val, X_test, y_train_val, y_test = train_test_split(\n",
        "    X, y_binary,\n",
        "    test_size=0.1,\n",
        "    random_state=42,\n",
        "    stratify=y_binary\n",
        ")\n",
        "\n",
        "# Second split: 22.2% of remaining 90% = 20% of total for validation\n",
        "X_train, X_val, y_train, y_val = train_test_split(\n",
        "    X_train_val, y_train_val,\n",
        "    test_size=0.222,  # 0.222 * 0.9 ≈ 0.20\n",
        "    random_state=42,\n",
        "    stratify=y_train_val\n",
        ")\n",
        "\n",
        "print(\"70-20-10 Split Completed:\")\n",
        "print(f\"Training set:   {X_train.shape[0]} patients ({X_train.shape[0]/len(X)*100:.1f}%)\")\n",
        "print(f\"Validation set: {X_val.shape[0]} patients ({X_val.shape[0]/len(X)*100:.1f}%)\")\n",
        "print(f\"Test set:       {X_test.shape[0]} patients ({X_test.shape[0]/len(X)*100:.1f}%)\")\n",
        "\n",
        "print(f\"\\nDisease prevalence:\")\n",
        "print(f\"Training:   {y_train.mean():.2%} ({y_train.sum()}/{len(y_train)})\")\n",
        "print(f\"Validation: {y_val.mean():.2%} ({y_val.sum()}/{len(y_val)})\")\n",
        "print(f\"Test:       {y_test.mean():.2%} ({y_test.sum()}/{len(y_test)})\")"
      ],
      "metadata": {
        "colab": {
          "base_uri": "https://localhost:8080/"
        },
        "id": "JdlOf2U5K1Ok",
        "outputId": "3a00a48c-2cac-414d-821f-d1171ba87849"
      },
      "execution_count": 4,
      "outputs": [
        {
          "output_type": "stream",
          "name": "stdout",
          "text": [
            "70-20-10 Split Completed:\n",
            "Training set:   211 patients (69.6%)\n",
            "Validation set: 61 patients (20.1%)\n",
            "Test set:       31 patients (10.2%)\n",
            "\n",
            "Disease prevalence:\n",
            "Training:   45.97% (97/211)\n",
            "Validation: 45.90% (28/61)\n",
            "Test:       45.16% (14/31)\n"
          ]
        }
      ]
    },
    {
      "cell_type": "markdown",
      "source": [
        "### Missing Value"
      ],
      "metadata": {
        "id": "A-cV472zdTIm"
      }
    },
    {
      "cell_type": "code",
      "source": [
        "# Create copies to avoid modifying originals\n",
        "X_train_clean = X_train.copy()\n",
        "X_val_clean = X_val.copy()\n",
        "X_test_clean = X_test.copy()"
      ],
      "metadata": {
        "id": "oEFLPRM6N8J5"
      },
      "execution_count": 5,
      "outputs": []
    },
    {
      "cell_type": "code",
      "source": [
        "# Learn imputation values from TRAINING set only\n",
        "ca_mode_train = X_train_clean['ca'].mode()[0]\n",
        "thal_mode_train = X_train_clean['thal'].mode()[0]\n",
        "\n",
        "print(f\"   Training mode for 'ca': {ca_mode_train}\")\n",
        "print(f\"   Training mode for 'thal': {thal_mode_train}\")\n",
        "\n",
        "# Apply to ALL sets using TRAINING values\n",
        "for dataset, name in [(X_train_clean, 'Training'), (X_val_clean, 'Validation'), (X_test_clean, 'Test')]:\n",
        "    dataset['ca'].fillna(ca_mode_train, inplace=True)\n",
        "    dataset['thal'].fillna(thal_mode_train, inplace=True)\n",
        "    missing_after = dataset.isnull().sum().sum()\n",
        "    print(f\"   {name}: {missing_after} missing values remaining\")"
      ],
      "metadata": {
        "colab": {
          "base_uri": "https://localhost:8080/"
        },
        "id": "q7efUERBOMnz",
        "outputId": "273258e4-203e-4502-8408-8a6cf07d65c4"
      },
      "execution_count": 6,
      "outputs": [
        {
          "output_type": "stream",
          "name": "stdout",
          "text": [
            "   Training mode for 'ca': 0.0\n",
            "   Training mode for 'thal': 3.0\n",
            "   Training: 0 missing values remaining\n",
            "   Validation: 0 missing values remaining\n",
            "   Test: 0 missing values remaining\n"
          ]
        },
        {
          "output_type": "stream",
          "name": "stderr",
          "text": [
            "/tmp/ipython-input-3366214759.py:10: FutureWarning: A value is trying to be set on a copy of a DataFrame or Series through chained assignment using an inplace method.\n",
            "The behavior will change in pandas 3.0. This inplace method will never work because the intermediate object on which we are setting values always behaves as a copy.\n",
            "\n",
            "For example, when doing 'df[col].method(value, inplace=True)', try using 'df.method({col: value}, inplace=True)' or df[col] = df[col].method(value) instead, to perform the operation inplace on the original object.\n",
            "\n",
            "\n",
            "  dataset['ca'].fillna(ca_mode_train, inplace=True)\n",
            "/tmp/ipython-input-3366214759.py:11: FutureWarning: A value is trying to be set on a copy of a DataFrame or Series through chained assignment using an inplace method.\n",
            "The behavior will change in pandas 3.0. This inplace method will never work because the intermediate object on which we are setting values always behaves as a copy.\n",
            "\n",
            "For example, when doing 'df[col].method(value, inplace=True)', try using 'df.method({col: value}, inplace=True)' or df[col] = df[col].method(value) instead, to perform the operation inplace on the original object.\n",
            "\n",
            "\n",
            "  dataset['thal'].fillna(thal_mode_train, inplace=True)\n"
          ]
        }
      ]
    },
    {
      "cell_type": "markdown",
      "source": [
        "### Label Encoding"
      ],
      "metadata": {
        "id": "MlHwqTY4fcp_"
      }
    },
    {
      "cell_type": "code",
      "source": [
        "categorical_features = ['sex', 'cp', 'fbs', 'restecg', 'exang', 'slope', 'thal']\n",
        "label_encoders = {}\n",
        "\n",
        "for feature in categorical_features:\n",
        "    # Fit encoder ONLY on training data\n",
        "    le = LabelEncoder()\n",
        "    X_train_clean[feature] = le.fit_transform(X_train_clean[feature])\n",
        "    label_encoders[feature] = le\n",
        "\n",
        "    # Transform validation and test using training encoder\n",
        "    X_val_clean[feature] = le.transform(X_val_clean[feature])\n",
        "    X_test_clean[feature] = le.transform(X_test_clean[feature])\n",
        "\n",
        "    print(f\"   {feature}: encoded using training categories\")\n"
      ],
      "metadata": {
        "colab": {
          "base_uri": "https://localhost:8080/"
        },
        "id": "8y00xXroOVzV",
        "outputId": "e520b970-8a50-47cb-cfa5-17b8fbd82df8"
      },
      "execution_count": 7,
      "outputs": [
        {
          "output_type": "stream",
          "name": "stdout",
          "text": [
            "   sex: encoded using training categories\n",
            "   cp: encoded using training categories\n",
            "   fbs: encoded using training categories\n",
            "   restecg: encoded using training categories\n",
            "   exang: encoded using training categories\n",
            "   slope: encoded using training categories\n",
            "   thal: encoded using training categories\n"
          ]
        }
      ]
    },
    {
      "cell_type": "markdown",
      "source": [
        "## Model Training & Evaluation"
      ],
      "metadata": {
        "id": "5q7nbgFpryIH"
      }
    },
    {
      "cell_type": "markdown",
      "source": [
        "Random Forest Model Implementation"
      ],
      "metadata": {
        "id": "HnDGUyxwn03r"
      }
    },
    {
      "cell_type": "code",
      "source": [
        "# Create a Random Forest classifier with medically-appropriate parameters\n",
        "rf_model = RandomForestClassifier(\n",
        "    n_estimators=100,        # Number of decision trees in the forest\n",
        "    max_depth=10,            # Maximum depth of each tree\n",
        "    min_samples_split=5,     # Minimum samples required to split a node\n",
        "    min_samples_leaf=2,      # Minimum samples required at a leaf node\n",
        "    max_features='sqrt',     # Number of features to consider for splitting\n",
        "    bootstrap=True,          # Use bootstrap sampling (bagging)\n",
        "    random_state=42,         # For reproducible results\n",
        "    class_weight='balanced', # Adjust for class imbalance\n",
        "    verbose=1                # Show training progress\n",
        ")\n",
        "\n",
        "#Train the model\n",
        "# Fitting the model to learn patterns from 212 training patients\n",
        "# Each tree will learn different aspects of heart disease predictors\n",
        "rf_model.fit(X_train_clean, y_train)"
      ],
      "metadata": {
        "colab": {
          "base_uri": "https://localhost:8080/",
          "height": 149
        },
        "id": "3JGvGxIKn5-f",
        "outputId": "9e4139f0-2ff4-49d1-f711-e2797dcceacc"
      },
      "execution_count": 8,
      "outputs": [
        {
          "output_type": "stream",
          "name": "stderr",
          "text": [
            "[Parallel(n_jobs=1)]: Done  49 tasks      | elapsed:    0.2s\n",
            "[Parallel(n_jobs=1)]: Done 100 out of 100 | elapsed:    0.3s finished\n"
          ]
        },
        {
          "output_type": "execute_result",
          "data": {
            "text/plain": [
              "RandomForestClassifier(class_weight='balanced', max_depth=10,\n",
              "                       min_samples_leaf=2, min_samples_split=5, random_state=42,\n",
              "                       verbose=1)"
            ],
            "text/html": [
              "<style>#sk-container-id-1 {\n",
              "  /* Definition of color scheme common for light and dark mode */\n",
              "  --sklearn-color-text: #000;\n",
              "  --sklearn-color-text-muted: #666;\n",
              "  --sklearn-color-line: gray;\n",
              "  /* Definition of color scheme for unfitted estimators */\n",
              "  --sklearn-color-unfitted-level-0: #fff5e6;\n",
              "  --sklearn-color-unfitted-level-1: #f6e4d2;\n",
              "  --sklearn-color-unfitted-level-2: #ffe0b3;\n",
              "  --sklearn-color-unfitted-level-3: chocolate;\n",
              "  /* Definition of color scheme for fitted estimators */\n",
              "  --sklearn-color-fitted-level-0: #f0f8ff;\n",
              "  --sklearn-color-fitted-level-1: #d4ebff;\n",
              "  --sklearn-color-fitted-level-2: #b3dbfd;\n",
              "  --sklearn-color-fitted-level-3: cornflowerblue;\n",
              "\n",
              "  /* Specific color for light theme */\n",
              "  --sklearn-color-text-on-default-background: var(--sg-text-color, var(--theme-code-foreground, var(--jp-content-font-color1, black)));\n",
              "  --sklearn-color-background: var(--sg-background-color, var(--theme-background, var(--jp-layout-color0, white)));\n",
              "  --sklearn-color-border-box: var(--sg-text-color, var(--theme-code-foreground, var(--jp-content-font-color1, black)));\n",
              "  --sklearn-color-icon: #696969;\n",
              "\n",
              "  @media (prefers-color-scheme: dark) {\n",
              "    /* Redefinition of color scheme for dark theme */\n",
              "    --sklearn-color-text-on-default-background: var(--sg-text-color, var(--theme-code-foreground, var(--jp-content-font-color1, white)));\n",
              "    --sklearn-color-background: var(--sg-background-color, var(--theme-background, var(--jp-layout-color0, #111)));\n",
              "    --sklearn-color-border-box: var(--sg-text-color, var(--theme-code-foreground, var(--jp-content-font-color1, white)));\n",
              "    --sklearn-color-icon: #878787;\n",
              "  }\n",
              "}\n",
              "\n",
              "#sk-container-id-1 {\n",
              "  color: var(--sklearn-color-text);\n",
              "}\n",
              "\n",
              "#sk-container-id-1 pre {\n",
              "  padding: 0;\n",
              "}\n",
              "\n",
              "#sk-container-id-1 input.sk-hidden--visually {\n",
              "  border: 0;\n",
              "  clip: rect(1px 1px 1px 1px);\n",
              "  clip: rect(1px, 1px, 1px, 1px);\n",
              "  height: 1px;\n",
              "  margin: -1px;\n",
              "  overflow: hidden;\n",
              "  padding: 0;\n",
              "  position: absolute;\n",
              "  width: 1px;\n",
              "}\n",
              "\n",
              "#sk-container-id-1 div.sk-dashed-wrapped {\n",
              "  border: 1px dashed var(--sklearn-color-line);\n",
              "  margin: 0 0.4em 0.5em 0.4em;\n",
              "  box-sizing: border-box;\n",
              "  padding-bottom: 0.4em;\n",
              "  background-color: var(--sklearn-color-background);\n",
              "}\n",
              "\n",
              "#sk-container-id-1 div.sk-container {\n",
              "  /* jupyter's `normalize.less` sets `[hidden] { display: none; }`\n",
              "     but bootstrap.min.css set `[hidden] { display: none !important; }`\n",
              "     so we also need the `!important` here to be able to override the\n",
              "     default hidden behavior on the sphinx rendered scikit-learn.org.\n",
              "     See: https://github.com/scikit-learn/scikit-learn/issues/21755 */\n",
              "  display: inline-block !important;\n",
              "  position: relative;\n",
              "}\n",
              "\n",
              "#sk-container-id-1 div.sk-text-repr-fallback {\n",
              "  display: none;\n",
              "}\n",
              "\n",
              "div.sk-parallel-item,\n",
              "div.sk-serial,\n",
              "div.sk-item {\n",
              "  /* draw centered vertical line to link estimators */\n",
              "  background-image: linear-gradient(var(--sklearn-color-text-on-default-background), var(--sklearn-color-text-on-default-background));\n",
              "  background-size: 2px 100%;\n",
              "  background-repeat: no-repeat;\n",
              "  background-position: center center;\n",
              "}\n",
              "\n",
              "/* Parallel-specific style estimator block */\n",
              "\n",
              "#sk-container-id-1 div.sk-parallel-item::after {\n",
              "  content: \"\";\n",
              "  width: 100%;\n",
              "  border-bottom: 2px solid var(--sklearn-color-text-on-default-background);\n",
              "  flex-grow: 1;\n",
              "}\n",
              "\n",
              "#sk-container-id-1 div.sk-parallel {\n",
              "  display: flex;\n",
              "  align-items: stretch;\n",
              "  justify-content: center;\n",
              "  background-color: var(--sklearn-color-background);\n",
              "  position: relative;\n",
              "}\n",
              "\n",
              "#sk-container-id-1 div.sk-parallel-item {\n",
              "  display: flex;\n",
              "  flex-direction: column;\n",
              "}\n",
              "\n",
              "#sk-container-id-1 div.sk-parallel-item:first-child::after {\n",
              "  align-self: flex-end;\n",
              "  width: 50%;\n",
              "}\n",
              "\n",
              "#sk-container-id-1 div.sk-parallel-item:last-child::after {\n",
              "  align-self: flex-start;\n",
              "  width: 50%;\n",
              "}\n",
              "\n",
              "#sk-container-id-1 div.sk-parallel-item:only-child::after {\n",
              "  width: 0;\n",
              "}\n",
              "\n",
              "/* Serial-specific style estimator block */\n",
              "\n",
              "#sk-container-id-1 div.sk-serial {\n",
              "  display: flex;\n",
              "  flex-direction: column;\n",
              "  align-items: center;\n",
              "  background-color: var(--sklearn-color-background);\n",
              "  padding-right: 1em;\n",
              "  padding-left: 1em;\n",
              "}\n",
              "\n",
              "\n",
              "/* Toggleable style: style used for estimator/Pipeline/ColumnTransformer box that is\n",
              "clickable and can be expanded/collapsed.\n",
              "- Pipeline and ColumnTransformer use this feature and define the default style\n",
              "- Estimators will overwrite some part of the style using the `sk-estimator` class\n",
              "*/\n",
              "\n",
              "/* Pipeline and ColumnTransformer style (default) */\n",
              "\n",
              "#sk-container-id-1 div.sk-toggleable {\n",
              "  /* Default theme specific background. It is overwritten whether we have a\n",
              "  specific estimator or a Pipeline/ColumnTransformer */\n",
              "  background-color: var(--sklearn-color-background);\n",
              "}\n",
              "\n",
              "/* Toggleable label */\n",
              "#sk-container-id-1 label.sk-toggleable__label {\n",
              "  cursor: pointer;\n",
              "  display: flex;\n",
              "  width: 100%;\n",
              "  margin-bottom: 0;\n",
              "  padding: 0.5em;\n",
              "  box-sizing: border-box;\n",
              "  text-align: center;\n",
              "  align-items: start;\n",
              "  justify-content: space-between;\n",
              "  gap: 0.5em;\n",
              "}\n",
              "\n",
              "#sk-container-id-1 label.sk-toggleable__label .caption {\n",
              "  font-size: 0.6rem;\n",
              "  font-weight: lighter;\n",
              "  color: var(--sklearn-color-text-muted);\n",
              "}\n",
              "\n",
              "#sk-container-id-1 label.sk-toggleable__label-arrow:before {\n",
              "  /* Arrow on the left of the label */\n",
              "  content: \"▸\";\n",
              "  float: left;\n",
              "  margin-right: 0.25em;\n",
              "  color: var(--sklearn-color-icon);\n",
              "}\n",
              "\n",
              "#sk-container-id-1 label.sk-toggleable__label-arrow:hover:before {\n",
              "  color: var(--sklearn-color-text);\n",
              "}\n",
              "\n",
              "/* Toggleable content - dropdown */\n",
              "\n",
              "#sk-container-id-1 div.sk-toggleable__content {\n",
              "  max-height: 0;\n",
              "  max-width: 0;\n",
              "  overflow: hidden;\n",
              "  text-align: left;\n",
              "  /* unfitted */\n",
              "  background-color: var(--sklearn-color-unfitted-level-0);\n",
              "}\n",
              "\n",
              "#sk-container-id-1 div.sk-toggleable__content.fitted {\n",
              "  /* fitted */\n",
              "  background-color: var(--sklearn-color-fitted-level-0);\n",
              "}\n",
              "\n",
              "#sk-container-id-1 div.sk-toggleable__content pre {\n",
              "  margin: 0.2em;\n",
              "  border-radius: 0.25em;\n",
              "  color: var(--sklearn-color-text);\n",
              "  /* unfitted */\n",
              "  background-color: var(--sklearn-color-unfitted-level-0);\n",
              "}\n",
              "\n",
              "#sk-container-id-1 div.sk-toggleable__content.fitted pre {\n",
              "  /* unfitted */\n",
              "  background-color: var(--sklearn-color-fitted-level-0);\n",
              "}\n",
              "\n",
              "#sk-container-id-1 input.sk-toggleable__control:checked~div.sk-toggleable__content {\n",
              "  /* Expand drop-down */\n",
              "  max-height: 200px;\n",
              "  max-width: 100%;\n",
              "  overflow: auto;\n",
              "}\n",
              "\n",
              "#sk-container-id-1 input.sk-toggleable__control:checked~label.sk-toggleable__label-arrow:before {\n",
              "  content: \"▾\";\n",
              "}\n",
              "\n",
              "/* Pipeline/ColumnTransformer-specific style */\n",
              "\n",
              "#sk-container-id-1 div.sk-label input.sk-toggleable__control:checked~label.sk-toggleable__label {\n",
              "  color: var(--sklearn-color-text);\n",
              "  background-color: var(--sklearn-color-unfitted-level-2);\n",
              "}\n",
              "\n",
              "#sk-container-id-1 div.sk-label.fitted input.sk-toggleable__control:checked~label.sk-toggleable__label {\n",
              "  background-color: var(--sklearn-color-fitted-level-2);\n",
              "}\n",
              "\n",
              "/* Estimator-specific style */\n",
              "\n",
              "/* Colorize estimator box */\n",
              "#sk-container-id-1 div.sk-estimator input.sk-toggleable__control:checked~label.sk-toggleable__label {\n",
              "  /* unfitted */\n",
              "  background-color: var(--sklearn-color-unfitted-level-2);\n",
              "}\n",
              "\n",
              "#sk-container-id-1 div.sk-estimator.fitted input.sk-toggleable__control:checked~label.sk-toggleable__label {\n",
              "  /* fitted */\n",
              "  background-color: var(--sklearn-color-fitted-level-2);\n",
              "}\n",
              "\n",
              "#sk-container-id-1 div.sk-label label.sk-toggleable__label,\n",
              "#sk-container-id-1 div.sk-label label {\n",
              "  /* The background is the default theme color */\n",
              "  color: var(--sklearn-color-text-on-default-background);\n",
              "}\n",
              "\n",
              "/* On hover, darken the color of the background */\n",
              "#sk-container-id-1 div.sk-label:hover label.sk-toggleable__label {\n",
              "  color: var(--sklearn-color-text);\n",
              "  background-color: var(--sklearn-color-unfitted-level-2);\n",
              "}\n",
              "\n",
              "/* Label box, darken color on hover, fitted */\n",
              "#sk-container-id-1 div.sk-label.fitted:hover label.sk-toggleable__label.fitted {\n",
              "  color: var(--sklearn-color-text);\n",
              "  background-color: var(--sklearn-color-fitted-level-2);\n",
              "}\n",
              "\n",
              "/* Estimator label */\n",
              "\n",
              "#sk-container-id-1 div.sk-label label {\n",
              "  font-family: monospace;\n",
              "  font-weight: bold;\n",
              "  display: inline-block;\n",
              "  line-height: 1.2em;\n",
              "}\n",
              "\n",
              "#sk-container-id-1 div.sk-label-container {\n",
              "  text-align: center;\n",
              "}\n",
              "\n",
              "/* Estimator-specific */\n",
              "#sk-container-id-1 div.sk-estimator {\n",
              "  font-family: monospace;\n",
              "  border: 1px dotted var(--sklearn-color-border-box);\n",
              "  border-radius: 0.25em;\n",
              "  box-sizing: border-box;\n",
              "  margin-bottom: 0.5em;\n",
              "  /* unfitted */\n",
              "  background-color: var(--sklearn-color-unfitted-level-0);\n",
              "}\n",
              "\n",
              "#sk-container-id-1 div.sk-estimator.fitted {\n",
              "  /* fitted */\n",
              "  background-color: var(--sklearn-color-fitted-level-0);\n",
              "}\n",
              "\n",
              "/* on hover */\n",
              "#sk-container-id-1 div.sk-estimator:hover {\n",
              "  /* unfitted */\n",
              "  background-color: var(--sklearn-color-unfitted-level-2);\n",
              "}\n",
              "\n",
              "#sk-container-id-1 div.sk-estimator.fitted:hover {\n",
              "  /* fitted */\n",
              "  background-color: var(--sklearn-color-fitted-level-2);\n",
              "}\n",
              "\n",
              "/* Specification for estimator info (e.g. \"i\" and \"?\") */\n",
              "\n",
              "/* Common style for \"i\" and \"?\" */\n",
              "\n",
              ".sk-estimator-doc-link,\n",
              "a:link.sk-estimator-doc-link,\n",
              "a:visited.sk-estimator-doc-link {\n",
              "  float: right;\n",
              "  font-size: smaller;\n",
              "  line-height: 1em;\n",
              "  font-family: monospace;\n",
              "  background-color: var(--sklearn-color-background);\n",
              "  border-radius: 1em;\n",
              "  height: 1em;\n",
              "  width: 1em;\n",
              "  text-decoration: none !important;\n",
              "  margin-left: 0.5em;\n",
              "  text-align: center;\n",
              "  /* unfitted */\n",
              "  border: var(--sklearn-color-unfitted-level-1) 1pt solid;\n",
              "  color: var(--sklearn-color-unfitted-level-1);\n",
              "}\n",
              "\n",
              ".sk-estimator-doc-link.fitted,\n",
              "a:link.sk-estimator-doc-link.fitted,\n",
              "a:visited.sk-estimator-doc-link.fitted {\n",
              "  /* fitted */\n",
              "  border: var(--sklearn-color-fitted-level-1) 1pt solid;\n",
              "  color: var(--sklearn-color-fitted-level-1);\n",
              "}\n",
              "\n",
              "/* On hover */\n",
              "div.sk-estimator:hover .sk-estimator-doc-link:hover,\n",
              ".sk-estimator-doc-link:hover,\n",
              "div.sk-label-container:hover .sk-estimator-doc-link:hover,\n",
              ".sk-estimator-doc-link:hover {\n",
              "  /* unfitted */\n",
              "  background-color: var(--sklearn-color-unfitted-level-3);\n",
              "  color: var(--sklearn-color-background);\n",
              "  text-decoration: none;\n",
              "}\n",
              "\n",
              "div.sk-estimator.fitted:hover .sk-estimator-doc-link.fitted:hover,\n",
              ".sk-estimator-doc-link.fitted:hover,\n",
              "div.sk-label-container:hover .sk-estimator-doc-link.fitted:hover,\n",
              ".sk-estimator-doc-link.fitted:hover {\n",
              "  /* fitted */\n",
              "  background-color: var(--sklearn-color-fitted-level-3);\n",
              "  color: var(--sklearn-color-background);\n",
              "  text-decoration: none;\n",
              "}\n",
              "\n",
              "/* Span, style for the box shown on hovering the info icon */\n",
              ".sk-estimator-doc-link span {\n",
              "  display: none;\n",
              "  z-index: 9999;\n",
              "  position: relative;\n",
              "  font-weight: normal;\n",
              "  right: .2ex;\n",
              "  padding: .5ex;\n",
              "  margin: .5ex;\n",
              "  width: min-content;\n",
              "  min-width: 20ex;\n",
              "  max-width: 50ex;\n",
              "  color: var(--sklearn-color-text);\n",
              "  box-shadow: 2pt 2pt 4pt #999;\n",
              "  /* unfitted */\n",
              "  background: var(--sklearn-color-unfitted-level-0);\n",
              "  border: .5pt solid var(--sklearn-color-unfitted-level-3);\n",
              "}\n",
              "\n",
              ".sk-estimator-doc-link.fitted span {\n",
              "  /* fitted */\n",
              "  background: var(--sklearn-color-fitted-level-0);\n",
              "  border: var(--sklearn-color-fitted-level-3);\n",
              "}\n",
              "\n",
              ".sk-estimator-doc-link:hover span {\n",
              "  display: block;\n",
              "}\n",
              "\n",
              "/* \"?\"-specific style due to the `<a>` HTML tag */\n",
              "\n",
              "#sk-container-id-1 a.estimator_doc_link {\n",
              "  float: right;\n",
              "  font-size: 1rem;\n",
              "  line-height: 1em;\n",
              "  font-family: monospace;\n",
              "  background-color: var(--sklearn-color-background);\n",
              "  border-radius: 1rem;\n",
              "  height: 1rem;\n",
              "  width: 1rem;\n",
              "  text-decoration: none;\n",
              "  /* unfitted */\n",
              "  color: var(--sklearn-color-unfitted-level-1);\n",
              "  border: var(--sklearn-color-unfitted-level-1) 1pt solid;\n",
              "}\n",
              "\n",
              "#sk-container-id-1 a.estimator_doc_link.fitted {\n",
              "  /* fitted */\n",
              "  border: var(--sklearn-color-fitted-level-1) 1pt solid;\n",
              "  color: var(--sklearn-color-fitted-level-1);\n",
              "}\n",
              "\n",
              "/* On hover */\n",
              "#sk-container-id-1 a.estimator_doc_link:hover {\n",
              "  /* unfitted */\n",
              "  background-color: var(--sklearn-color-unfitted-level-3);\n",
              "  color: var(--sklearn-color-background);\n",
              "  text-decoration: none;\n",
              "}\n",
              "\n",
              "#sk-container-id-1 a.estimator_doc_link.fitted:hover {\n",
              "  /* fitted */\n",
              "  background-color: var(--sklearn-color-fitted-level-3);\n",
              "}\n",
              "</style><div id=\"sk-container-id-1\" class=\"sk-top-container\"><div class=\"sk-text-repr-fallback\"><pre>RandomForestClassifier(class_weight=&#x27;balanced&#x27;, max_depth=10,\n",
              "                       min_samples_leaf=2, min_samples_split=5, random_state=42,\n",
              "                       verbose=1)</pre><b>In a Jupyter environment, please rerun this cell to show the HTML representation or trust the notebook. <br />On GitHub, the HTML representation is unable to render, please try loading this page with nbviewer.org.</b></div><div class=\"sk-container\" hidden><div class=\"sk-item\"><div class=\"sk-estimator fitted sk-toggleable\"><input class=\"sk-toggleable__control sk-hidden--visually\" id=\"sk-estimator-id-1\" type=\"checkbox\" checked><label for=\"sk-estimator-id-1\" class=\"sk-toggleable__label fitted sk-toggleable__label-arrow\"><div><div>RandomForestClassifier</div></div><div><a class=\"sk-estimator-doc-link fitted\" rel=\"noreferrer\" target=\"_blank\" href=\"https://scikit-learn.org/1.6/modules/generated/sklearn.ensemble.RandomForestClassifier.html\">?<span>Documentation for RandomForestClassifier</span></a><span class=\"sk-estimator-doc-link fitted\">i<span>Fitted</span></span></div></label><div class=\"sk-toggleable__content fitted\"><pre>RandomForestClassifier(class_weight=&#x27;balanced&#x27;, max_depth=10,\n",
              "                       min_samples_leaf=2, min_samples_split=5, random_state=42,\n",
              "                       verbose=1)</pre></div> </div></div></div></div>"
            ]
          },
          "metadata": {},
          "execution_count": 8
        }
      ]
    },
    {
      "cell_type": "markdown",
      "source": [
        "Initial Model Evaluation"
      ],
      "metadata": {
        "id": "eA-kQszmp8cW"
      }
    },
    {
      "cell_type": "code",
      "source": [
        "# Get predictions for training and validation sets\n",
        "# Predict on patients model saw during training\n",
        "y_train_pred = rf_model.predict(X_train_clean)\n",
        "# Predict on NEW patients (validation set)\n",
        "y_val_pred = rf_model.predict(X_val_clean)\n",
        "\n",
        "# Also get probabilities (more detailed than just yes/no)\n",
        "# Probability of disease\n",
        "y_train_proba = rf_model.predict_proba(X_train_clean)[:, 1]\n",
        "y_val_proba = rf_model.predict_proba(X_val_clean)[:, 1]\n",
        "\n",
        "def evaluate_model(y_true, y_pred, y_proba, dataset_name):\n",
        "    accuracy = accuracy_score(y_true, y_pred)\n",
        "    precision = precision_score(y_true, y_pred)\n",
        "    recall = recall_score(y_true, y_pred)\n",
        "    f1 = f1_score(y_true, y_pred)\n",
        "    auc = roc_auc_score(y_true, y_proba)\n",
        "\n",
        "    print(f\"\\n{dataset_name} Set Performance:\")\n",
        "    print(f\"  Accuracy:  {accuracy:.4f}\")   #Overall correctness\n",
        "    print(f\"  Precision: {precision:.4f}\")  #Of predicted diseased, how many actually diseased?\n",
        "    print(f\"  Recall:    {recall:.4f}\")     #Of actually diseased, how many did we catch?\n",
        "    print(f\"  F1-Score:  {f1:.4f}\")         #Balance between precision and recall\n",
        "    print(f\"  ROC-AUC:   {auc:.4f}\")        #Overall ranking ability\n",
        "\n",
        "    return accuracy, precision, recall, f1, auc\n",
        "\n",
        "# Evaluate initial model\n",
        "train_metrics = evaluate_model(y_train, y_train_pred, y_train_proba, \"Training\")\n",
        "val_metrics = evaluate_model(y_val, y_val_pred, y_val_proba, \"Validation\")\n",
        "\n",
        "# Check for overfitting\n",
        "overfit_gap = train_metrics[0] - val_metrics[0]  # Accuracy difference\n",
        "print(f\"\\nOverfitting Analysis: Training - Validation = {overfit_gap:.4f}\")\n",
        "if overfit_gap > 0.1:\n",
        "    print(\"Potential overfitting detected!\")\n",
        "    print(\"Model memorized training data but doesn't generalize well\")\n",
        "else:\n",
        "    print(\"Model generalization looks good\")\n",
        "    print(\"Model learned patterns that work on new patients too\")"
      ],
      "metadata": {
        "colab": {
          "base_uri": "https://localhost:8080/"
        },
        "id": "OwPPJpPYp-f_",
        "outputId": "c77dc05e-d313-4a40-eb1b-f04d8d4464b2"
      },
      "execution_count": 9,
      "outputs": [
        {
          "output_type": "stream",
          "name": "stderr",
          "text": [
            "[Parallel(n_jobs=1)]: Done  49 tasks      | elapsed:    0.0s\n",
            "[Parallel(n_jobs=1)]: Done 100 out of 100 | elapsed:    0.0s finished\n",
            "[Parallel(n_jobs=1)]: Done  49 tasks      | elapsed:    0.0s\n",
            "[Parallel(n_jobs=1)]: Done 100 out of 100 | elapsed:    0.0s finished\n"
          ]
        },
        {
          "output_type": "stream",
          "name": "stdout",
          "text": [
            "\n",
            "Training Set Performance:\n",
            "  Accuracy:  0.9716\n",
            "  Precision: 0.9789\n",
            "  Recall:    0.9588\n",
            "  F1-Score:  0.9688\n",
            "  ROC-AUC:   0.9967\n",
            "\n",
            "Validation Set Performance:\n",
            "  Accuracy:  0.8361\n",
            "  Precision: 0.8750\n",
            "  Recall:    0.7500\n",
            "  F1-Score:  0.8077\n",
            "  ROC-AUC:   0.9102\n",
            "\n",
            "Overfitting Analysis: Training - Validation = 0.1355\n",
            "Potential overfitting detected!\n",
            "Model memorized training data but doesn't generalize well\n"
          ]
        },
        {
          "output_type": "stream",
          "name": "stderr",
          "text": [
            "[Parallel(n_jobs=1)]: Done  49 tasks      | elapsed:    0.0s\n",
            "[Parallel(n_jobs=1)]: Done 100 out of 100 | elapsed:    0.0s finished\n",
            "[Parallel(n_jobs=1)]: Done  49 tasks      | elapsed:    0.0s\n",
            "[Parallel(n_jobs=1)]: Done 100 out of 100 | elapsed:    0.0s finished\n"
          ]
        }
      ]
    },
    {
      "cell_type": "markdown",
      "source": [
        "###Hyperparameter Tuning"
      ],
      "metadata": {
        "id": "qfq80-g9uKsn"
      }
    },
    {
      "cell_type": "markdown",
      "source": [
        "ANALYZING OVERFITTING ISSUE:\n",
        "\n",
        "Training Accuracy: 97.16% vs Validation Accuracy: 83.61%\n",
        "\n",
        "Overfitting Gap: 13.55% → Model is too complex, memorizing training data\n",
        "\n",
        "Recall drop from 95.88% to 75.00% → Missing real disease cases!"
      ],
      "metadata": {
        "id": "a5i-LENWfn-q"
      }
    },
    {
      "cell_type": "markdown",
      "source": [
        "TUNING STRATEGY: Reduce model complexity to improve generalization\n",
        "- Lower max_depth: Simpler trees, less memorization\n",
        "- Higher min_samples: Require more evidence for decisions\n",
        "- Optimize n_estimators: Right number of trees"
      ],
      "metadata": {
        "id": "4URQ8Pcdf9Se"
      }
    },
    {
      "cell_type": "code",
      "source": [
        "# Define parameter grid focused on reducing overfitting\n",
        "param_grid = {\n",
        "    'n_estimators': [50, 100, 150],      # Test fewer/more trees\n",
        "    'max_depth': [5, 8, 10, None],       # Limit tree complexity\n",
        "    'min_samples_split': [5, 10, 15],    # Require more patients to split\n",
        "    'min_samples_leaf': [2, 4, 6],       # Larger leaf sizes\n",
        "    'max_features': ['sqrt', 'log2']     # Feature subset strategy\n",
        "}\n",
        "\n",
        "# PARAMETER GRID FOR OVERFITTING REDUCTION:\n",
        "for param, values in param_grid.items():\n",
        "    print(f\"  {param}: {values}\")"
      ],
      "metadata": {
        "colab": {
          "base_uri": "https://localhost:8080/"
        },
        "id": "FI_w3ah9gGPE",
        "outputId": "a700c917-c63b-438e-e93c-f6f24ebe4e2a"
      },
      "execution_count": 10,
      "outputs": [
        {
          "output_type": "stream",
          "name": "stdout",
          "text": [
            "  n_estimators: [50, 100, 150]\n",
            "  max_depth: [5, 8, 10, None]\n",
            "  min_samples_split: [5, 10, 15]\n",
            "  min_samples_leaf: [2, 4, 6]\n",
            "  max_features: ['sqrt', 'log2']\n"
          ]
        }
      ]
    },
    {
      "cell_type": "markdown",
      "source": [
        "GRID SEARCH CONFIGURATION:\n",
        "\n",
        "5-fold cross-validation: Each parameter combo tested 5 times\n",
        "\n",
        "Scoring: accuracy (but we'll monitor recall closely)\n",
        "\n",
        "Total combinations: 3 × 4 × 3 × 3 × 2 = 216 parameter combinations\n",
        "\n",
        "Each tested with 5-fold CV → 1,080 model trainings"
      ],
      "metadata": {
        "id": "wJcdlMWXgTbn"
      }
    },
    {
      "cell_type": "code",
      "source": [
        "# Perform grid search with cross-validation\n",
        "grid_search = GridSearchCV(\n",
        "    estimator=RandomForestClassifier(\n",
        "        random_state=42,\n",
        "        class_weight='balanced',  # Keep balanced for medical data\n",
        "        bootstrap=True\n",
        "    ),\n",
        "    param_grid=param_grid,\n",
        "    cv=StratifiedKFold(n_splits=5, shuffle=True, random_state=42),  # 5-fold CV\n",
        "    scoring='accuracy',  # Primary metric\n",
        "    n_jobs=-1,           # Use all available CPU cores\n",
        "    verbose=1,           # Show progress\n",
        "    return_train_score=True  # Get training scores to check overfitting\n",
        ")\n",
        "\n",
        "print(\"\\nSTARTING GRID SEARCH...\")\n",
        "print(\"This will test 216 parameter combinations to find the optimal settings\")\n",
        "print(\"Looking for the sweet spot between complexity and generalization...\")\n",
        "\n",
        "import time\n",
        "start_time = time.time()\n",
        "\n",
        "grid_search.fit(X_train_clean, y_train)\n",
        "\n",
        "end_time = time.time()\n",
        "print(f\"GRID SEARCH COMPLETED IN {end_time - start_time:.1f} SECONDS\")\n",
        "\n",
        "# Display best parameters\n",
        "print(\"\\nBEST PARAMETERS FOUND:\")\n",
        "best_params = grid_search.best_params_\n",
        "for param, value in best_params.items():\n",
        "    print(f\"  {param}: {value}\")\n",
        "\n",
        "print(f\"Best cross-validation accuracy: {grid_search.best_score_:.4f}\")\n",
        "\n",
        "# Get the optimized model\n",
        "best_rf = grid_search.best_estimator_"
      ],
      "metadata": {
        "colab": {
          "base_uri": "https://localhost:8080/"
        },
        "id": "be945fEDuM0R",
        "outputId": "80e32e9b-b234-40b0-d0ed-7d8a1e8e8aa2"
      },
      "execution_count": 11,
      "outputs": [
        {
          "output_type": "stream",
          "name": "stdout",
          "text": [
            "\n",
            "STARTING GRID SEARCH...\n",
            "This will test 216 parameter combinations to find the optimal settings\n",
            "Looking for the sweet spot between complexity and generalization...\n",
            "Fitting 5 folds for each of 216 candidates, totalling 1080 fits\n",
            "GRID SEARCH COMPLETED IN 198.4 SECONDS\n",
            "\n",
            "BEST PARAMETERS FOUND:\n",
            "  max_depth: 5\n",
            "  max_features: sqrt\n",
            "  min_samples_leaf: 2\n",
            "  min_samples_split: 5\n",
            "  n_estimators: 100\n",
            "Best cross-validation accuracy: 0.8392\n"
          ]
        }
      ]
    },
    {
      "cell_type": "markdown",
      "source": [
        "Tuning Result Analysis"
      ],
      "metadata": {
        "id": "Q_1IddNQhL8D"
      }
    },
    {
      "cell_type": "code",
      "source": [
        "# Check if overfitting was reduced\n",
        "cv_results = grid_search.cv_results_\n",
        "\n",
        "# Find the best combination's training vs validation scores\n",
        "best_index = grid_search.best_index_\n",
        "train_score = cv_results['mean_train_score'][best_index]\n",
        "test_score = cv_results['mean_test_score'][best_index]\n",
        "overfit_gap_tuned = train_score - test_score\n",
        "\n",
        "print(f\"Best CV Training Score: {train_score:.4f}\")\n",
        "print(f\"Best CV Validation Score: {test_score:.4f}\")\n",
        "print(f\"Overfitting Gap After Tuning: {overfit_gap_tuned:.4f}\")\n",
        "\n",
        "# Compare with initial overfitting\n",
        "initial_gap = 0.9716 - 0.8361  # initial results\n",
        "improvement = initial_gap - overfit_gap_tuned\n",
        "\n",
        "if improvement > 0:\n",
        "    print(f\"OVERFITTING REDUCED BY {improvement:.4f}!\")\n",
        "else:\n",
        "    print(\"Overfitting still present, but parameters are optimized\")"
      ],
      "metadata": {
        "colab": {
          "base_uri": "https://localhost:8080/"
        },
        "id": "bJAIbJhqhNJz",
        "outputId": "725e3912-530e-47f8-fc91-9e09ee4b8ac7"
      },
      "execution_count": 12,
      "outputs": [
        {
          "output_type": "stream",
          "name": "stdout",
          "text": [
            "Best CV Training Score: 0.9455\n",
            "Best CV Validation Score: 0.8392\n",
            "Overfitting Gap After Tuning: 0.1063\n",
            "OVERFITTING REDUCED BY 0.0292!\n"
          ]
        }
      ]
    },
    {
      "cell_type": "markdown",
      "source": [
        "EXPECTED IMPROVEMENTS:\n",
        "- Better generalization to new patients\n",
        "- More consistent performance across datasets\n",
        "- Improved recall on validation set\n",
        "- More reliable clinical predictions"
      ],
      "metadata": {
        "id": "zTUlxYnMhY9Q"
      }
    },
    {
      "cell_type": "markdown",
      "source": [
        "Analyze Top 5 Parameter Combinations:"
      ],
      "metadata": {
        "id": "XnsFy2g6n6B3"
      }
    },
    {
      "cell_type": "code",
      "source": [
        "results_df = pd.DataFrame(grid_search.cv_results_)\n",
        "top_5 = results_df.nlargest(5, 'mean_test_score')[[\n",
        "    'param_max_depth', 'param_min_samples_split',\n",
        "    'param_min_samples_leaf', 'param_n_estimators',\n",
        "    'mean_train_score', 'mean_test_score', 'std_test_score'\n",
        "]]\n",
        "\n",
        "for i, (_, row) in enumerate(top_5.iterrows(), 1):\n",
        "    print(f\"\\n{i}. Score: {row['mean_test_score']:.4f} (±{row['std_test_score']:.4f})\")\n",
        "    print(f\"   max_depth: {row['param_max_depth']}\")\n",
        "    print(f\"   min_samples_split: {row['param_min_samples_split']}\")\n",
        "    print(f\"   min_samples_leaf: {row['param_min_samples_leaf']}\")\n",
        "    print(f\"   n_estimators: {row['param_n_estimators']}\")\n",
        "    print(f\"   Train/Val gap: {row['mean_train_score'] - row['mean_test_score']:.4f}\")\n",
        "\n",
        "# Check if simpler models performed better (indicating overfitting reduction)\n",
        "simple_models = results_df[results_df['param_max_depth'] <= 8]\n",
        "complex_models = results_df[results_df['param_max_depth'] > 8]\n",
        "\n",
        "if len(simple_models) > 0 and len(complex_models) > 0:\n",
        "    avg_simple_score = simple_models['mean_test_score'].mean()\n",
        "    avg_complex_score = complex_models['mean_test_score'].mean()\n",
        "\n",
        "    print(f\"\\nCOMPLEXITY ANALYSIS:\")\n",
        "    print(f\"Average validation score for simple models (depth ≤ 8): {avg_simple_score:.4f}\")\n",
        "    print(f\"Average validation score for complex models (depth > 8): {avg_complex_score:.4f}\")\n",
        "\n",
        "    if avg_simple_score > avg_complex_score:\n",
        "        print(\"Simpler models generalize better → Confirms overfitting issue\")\n",
        "    else:\n",
        "        print(\"Complex models still competitive\")\n"
      ],
      "metadata": {
        "colab": {
          "base_uri": "https://localhost:8080/"
        },
        "id": "LLUlYmRVm0Tm",
        "outputId": "83da8e1a-0595-46b1-8cb2-593ecb0ca073"
      },
      "execution_count": 13,
      "outputs": [
        {
          "output_type": "stream",
          "name": "stdout",
          "text": [
            "\n",
            "1. Score: 0.8392 (±0.0633)\n",
            "   max_depth: 5\n",
            "   min_samples_split: 5\n",
            "   min_samples_leaf: 2\n",
            "   n_estimators: 100\n",
            "   Train/Val gap: 0.1063\n",
            "\n",
            "2. Score: 0.8392 (±0.0444)\n",
            "   max_depth: 5\n",
            "   min_samples_split: 15\n",
            "   min_samples_leaf: 6\n",
            "   n_estimators: 50\n",
            "   Train/Val gap: 0.0589\n",
            "\n",
            "3. Score: 0.8392 (±0.0633)\n",
            "   max_depth: 5\n",
            "   min_samples_split: 5\n",
            "   min_samples_leaf: 2\n",
            "   n_estimators: 100\n",
            "   Train/Val gap: 0.1063\n",
            "\n",
            "4. Score: 0.8392 (±0.0444)\n",
            "   max_depth: 5\n",
            "   min_samples_split: 15\n",
            "   min_samples_leaf: 6\n",
            "   n_estimators: 50\n",
            "   Train/Val gap: 0.0589\n",
            "\n",
            "5. Score: 0.8392 (±0.0444)\n",
            "   max_depth: 8\n",
            "   min_samples_split: 15\n",
            "   min_samples_leaf: 2\n",
            "   n_estimators: 50\n",
            "   Train/Val gap: 0.0708\n",
            "\n",
            "COMPLEXITY ANALYSIS:\n",
            "Average validation score for simple models (depth ≤ 8): 0.8273\n",
            "Average validation score for complex models (depth > 8): 0.8258\n",
            "Simpler models generalize better → Confirms overfitting issue\n"
          ]
        }
      ]
    },
    {
      "cell_type": "markdown",
      "source": [
        "## Model Interpretation & Analysis"
      ],
      "metadata": {
        "id": "a5OQBs-Cr1Ci"
      }
    },
    {
      "cell_type": "markdown",
      "source": [
        "Predicting Test Dataset"
      ],
      "metadata": {
        "id": "W_r_IbuOsp9R"
      }
    },
    {
      "cell_type": "code",
      "source": [
        "# Make predictions on the test set (FIRST TIME using this data!)\n",
        "y_test_pred = best_rf.predict(X_test_clean)\n",
        "y_test_proba = best_rf.predict_proba(X_test_clean)[:, 1]\n",
        "\n",
        "print(\"\\nFINAL TEST SET PERFORMANCE:\")\n",
        "\n",
        "# Comprehensive evaluation function\n",
        "def comprehensive_evaluation(y_true, y_pred, y_proba, dataset_name):\n",
        "    accuracy = accuracy_score(y_true, y_pred)\n",
        "    precision = precision_score(y_true, y_pred)\n",
        "    recall = recall_score(y_true, y_pred)\n",
        "    f1 = f1_score(y_true, y_pred)\n",
        "    auc = roc_auc_score(y_true, y_proba)\n",
        "\n",
        "    print(f\"\\n{dataset_name} Set:\")\n",
        "    print(f\"  Accuracy:    {accuracy:.4f}\")\n",
        "    print(f\"  Precision:   {precision:.4f}\")\n",
        "    print(f\"  Recall:      {recall:.4f}\")\n",
        "    print(f\"  F1-Score:    {f1:.4f}\")\n",
        "    print(f\"  ROC-AUC:     {auc:.4f}\")\n",
        "\n",
        "    return accuracy, precision, recall, f1, auc\n",
        "\n",
        "# Evaluate optimized model on all sets\n",
        "train_metrics_opt = comprehensive_evaluation(y_train, best_rf.predict(X_train_clean),\n",
        "                                           best_rf.predict_proba(X_train_clean)[:, 1], \"Training\")\n",
        "\n",
        "val_metrics_opt = comprehensive_evaluation(y_val, best_rf.predict(X_val_clean),\n",
        "                                         best_rf.predict_proba(X_val_clean)[:, 1], \"Validation\")\n",
        "\n",
        "test_metrics_opt = comprehensive_evaluation(y_test, y_test_pred, y_test_proba, \"Test\")\n",
        "\n",
        "print(\"\\nCOMPARISON WITH INITIAL MODEL:\")\n",
        "print(\"               | Training | Validation | Test     | Overfit Gap\")\n",
        "print(\"---------------+----------+------------+----------+------------\")\n",
        "print(f\"Initial Model  | 0.9716   | 0.8361     | -        | 0.1355\")\n",
        "print(f\"Optimized Model| {train_metrics_opt[0]:.4f}   | {val_metrics_opt[0]:.4f}     | {test_metrics_opt[0]:.4f} | {train_metrics_opt[0] - val_metrics_opt[0]:.4f}\")\n",
        "\n",
        "# Check if recall improved (medically important)\n",
        "initial_val_recall = 0.7500  # Your initial validation recall\n",
        "recall_improvement = val_metrics_opt[2] - initial_val_recall\n",
        "\n",
        "if recall_improvement > 0:\n",
        "    print(f\"RECALL IMPROVEMENT: +{recall_improvement:.4f} (Better disease detection!)\")\n",
        "else:\n",
        "    print(f\"Recall change: {recall_improvement:.4f}\")\n",
        "\n",
        "print(\"\\nDETAILED CLASSIFICATION REPORT (Test Set):\")\n",
        "print(classification_report(y_test, y_test_pred, target_names=['Healthy', 'Diseased']))"
      ],
      "metadata": {
        "colab": {
          "base_uri": "https://localhost:8080/"
        },
        "id": "VD9K6Gamst0c",
        "outputId": "12bd4293-5153-42d0-e0ed-bd60f54b09ab"
      },
      "execution_count": 14,
      "outputs": [
        {
          "output_type": "stream",
          "name": "stdout",
          "text": [
            "\n",
            "FINAL TEST SET PERFORMANCE:\n",
            "\n",
            "Training Set:\n",
            "  Accuracy:    0.9242\n",
            "  Precision:   0.9451\n",
            "  Recall:      0.8866\n",
            "  F1-Score:    0.9149\n",
            "  ROC-AUC:     0.9883\n",
            "\n",
            "Validation Set:\n",
            "  Accuracy:    0.8361\n",
            "  Precision:   0.8750\n",
            "  Recall:      0.7500\n",
            "  F1-Score:    0.8077\n",
            "  ROC-AUC:     0.9069\n",
            "\n",
            "Test Set:\n",
            "  Accuracy:    0.9032\n",
            "  Precision:   0.8667\n",
            "  Recall:      0.9286\n",
            "  F1-Score:    0.8966\n",
            "  ROC-AUC:     0.9496\n",
            "\n",
            "COMPARISON WITH INITIAL MODEL:\n",
            "               | Training | Validation | Test     | Overfit Gap\n",
            "---------------+----------+------------+----------+------------\n",
            "Initial Model  | 0.9716   | 0.8361     | -        | 0.1355\n",
            "Optimized Model| 0.9242   | 0.8361     | 0.9032 | 0.0881\n",
            "Recall change: 0.0000\n",
            "\n",
            "DETAILED CLASSIFICATION REPORT (Test Set):\n",
            "              precision    recall  f1-score   support\n",
            "\n",
            "     Healthy       0.94      0.88      0.91        17\n",
            "    Diseased       0.87      0.93      0.90        14\n",
            "\n",
            "    accuracy                           0.90        31\n",
            "   macro avg       0.90      0.91      0.90        31\n",
            "weighted avg       0.91      0.90      0.90        31\n",
            "\n"
          ]
        }
      ]
    },
    {
      "cell_type": "markdown",
      "source": [
        "Confusion Matrix"
      ],
      "metadata": {
        "id": "B9lf0Pxmwd9y"
      }
    },
    {
      "cell_type": "code",
      "source": [
        "# Create confusion matrix\n",
        "cm = confusion_matrix(y_test, y_test_pred)\n",
        "\n",
        "print(\"ACTUAL vs PREDICTED (Test Set):\")\n",
        "print(\"                Predicted\")\n",
        "print(\"              Healthy  Diseased\")\n",
        "print(f\"Actual Healthy    {cm[0,0]:>3}       {cm[0,1]:>3}\")\n",
        "print(f\"Actual Diseased   {cm[1,0]:>3}       {cm[1,1]:>3}\")\n",
        "\n",
        "# Calculate medically important metrics\n",
        "total_patients = len(y_test)\n",
        "true_healthy = cm[0,0] + cm[0,1]\n",
        "true_diseased = cm[1,0] + cm[1,1]\n",
        "\n",
        "healthy_correct_pct = cm[0,0] / true_healthy * 100\n",
        "diseased_correct_pct = cm[1,1] / true_diseased * 100\n",
        "false_negatives_pct = cm[1,0] / true_diseased * 100  # Missed disease cases\n",
        "false_positives_pct = cm[0,1] / true_healthy * 100   # False alarms\n",
        "\n",
        "print(f\"\\nCLINICAL PERFORMANCE ANALYSIS:\")\n",
        "print(f\"Patients correctly identified as healthy: {healthy_correct_pct:.1f}% ({cm[0,0]}/{true_healthy})\")\n",
        "print(f\"Patients correctly identified as diseased: {diseased_correct_pct:.1f}% ({cm[1,1]}/{true_diseased})\")\n",
        "print(f\"Missed disease cases (false negatives): {false_negatives_pct:.1f}% ({cm[1,0]}/{true_diseased})\")\n",
        "print(f\"False alarms (false positives): {false_positives_pct:.1f}% ({cm[0,1]}/{true_healthy})\")\n",
        "\n",
        "# Visualize confusion matrix\n",
        "plt.figure(figsize=(8, 6))\n",
        "sns.heatmap(cm, annot=True, fmt='d', cmap='Blues',\n",
        "            xticklabels=['Healthy', 'Diseased'],\n",
        "            yticklabels=['Healthy', 'Diseased'])\n",
        "plt.title('Confusion Matrix - Optimized Random Forest (Test Set)\\nClinical Impact Analysis')\n",
        "plt.ylabel('Actual Diagnosis')\n",
        "plt.xlabel('Predicted Diagnosis')\n",
        "plt.tight_layout()\n",
        "plt.show()"
      ],
      "metadata": {
        "colab": {
          "base_uri": "https://localhost:8080/",
          "height": 798
        },
        "id": "jd5Hliv0vEk_",
        "outputId": "929a3852-f1ad-4ca1-af41-69c88f255fb3"
      },
      "execution_count": 15,
      "outputs": [
        {
          "output_type": "stream",
          "name": "stdout",
          "text": [
            "ACTUAL vs PREDICTED (Test Set):\n",
            "                Predicted\n",
            "              Healthy  Diseased\n",
            "Actual Healthy     15         2\n",
            "Actual Diseased     1        13\n",
            "\n",
            "CLINICAL PERFORMANCE ANALYSIS:\n",
            "Patients correctly identified as healthy: 88.2% (15/17)\n",
            "Patients correctly identified as diseased: 92.9% (13/14)\n",
            "Missed disease cases (false negatives): 7.1% (1/14)\n",
            "False alarms (false positives): 11.8% (2/17)\n"
          ]
        },
        {
          "output_type": "display_data",
          "data": {
            "text/plain": [
              "<Figure size 800x600 with 2 Axes>"
            ],
            "image/png": "[encoded data removed]"
          },
          "metadata": {}
        }
      ]
    },
    {
      "cell_type": "markdown",
      "source": [
        "ROC Curve and Precision Recall"
      ],
      "metadata": {
        "id": "DFo7HECSyBfx"
      }
    },
    {
      "cell_type": "code",
      "source": [
        "# ROC Curve\n",
        "plt.figure(figsize=(15, 5))\n",
        "\n",
        "plt.subplot(1, 2, 1)\n",
        "fpr, tpr, _ = roc_curve(y_test, y_test_proba)\n",
        "auc_score = roc_auc_score(y_test, y_test_proba)\n",
        "plt.plot(fpr, tpr, label=f'Random Forest (AUC = {auc_score:.3f})', linewidth=2)\n",
        "plt.plot([0, 1], [0, 1], 'k--', label='Random Classifier')\n",
        "plt.xlabel('False Positive Rate')\n",
        "plt.ylabel('True Positive Rate (Recall)')\n",
        "plt.title('ROC Curve - Test Set')\n",
        "plt.legend()\n",
        "plt.grid(True)\n",
        "\n",
        "# Precision-Recall Curve\n",
        "plt.subplot(1, 2, 2)\n",
        "precision, recall, _ = precision_recall_curve(y_test, y_test_proba)\n",
        "avg_precision = average_precision_score(y_test, y_test_proba)\n",
        "plt.plot(recall, precision, label=f'Random Forest (AP = {avg_precision:.3f})', linewidth=2)\n",
        "plt.xlabel('Recall')\n",
        "plt.ylabel('Precision')\n",
        "plt.title('Precision-Recall Curve - Test Set')\n",
        "plt.legend()\n",
        "plt.grid(True)\n",
        "\n",
        "plt.tight_layout()\n",
        "plt.show()\n",
        "\n",
        "print(f\"Model demonstrates excellent ranking ability:\")\n",
        "print(f\" - ROC-AUC: {auc_score:.3f}\")\n",
        "print(f\" - Average Precision: {avg_precision:.3f}\")"
      ],
      "metadata": {
        "colab": {
          "base_uri": "https://localhost:8080/",
          "height": 579
        },
        "id": "reHrxvzSycUK",
        "outputId": "bb26c5e7-a608-4448-9cd7-d2d2c4e06557"
      },
      "execution_count": 16,
      "outputs": [
        {
          "output_type": "display_data",
          "data": {
            "text/plain": [
              "<Figure size 1500x500 with 2 Axes>"
            ],
            "image/png": "[encoded data removed]"
          },
          "metadata": {}
        },
        {
          "output_type": "stream",
          "name": "stdout",
          "text": [
            "Model demonstrates excellent ranking ability:\n",
            " - ROC-AUC: 0.950\n",
            " - Average Precision: 0.917\n"
          ]
        }
      ]
    },
    {
      "cell_type": "markdown",
      "source": [
        "##Save Model"
      ],
      "metadata": {
        "id": "vCyNPniT_CC9"
      }
    },
    {
      "cell_type": "code",
      "source": [
        "# Save the optimized model\n",
        "joblib.dump(best_rf, 'heart_disease_final_model.pkl')\n",
        "\n",
        "# Save the preprocessing pipeline (CRUCIAL for new patients)\n",
        "preprocessing_artifacts = {\n",
        "    'label_encoders': label_encoders,\n",
        "    'feature_names': list(X_train_clean.columns),\n",
        "    'imputation_values': {'ca': ca_mode_train, 'thal': thal_mode_train}\n",
        "}\n",
        "joblib.dump(preprocessing_artifacts, 'preprocessing_pipeline.pkl')\n",
        "\n",
        "# Save performance metrics\n",
        "import json\n",
        "\n",
        "results = {\n",
        "    'test_accuracy': accuracy_score(y_test, y_test_pred),\n",
        "    'test_precision': precision_score(y_test, y_test_pred),\n",
        "    'test_recall': recall_score(y_test, y_test_pred),\n",
        "    'test_f1': f1_score(y_test, y_test_pred),\n",
        "    'test_auc_roc': roc_auc_score(y_test, y_test_proba),\n",
        "    'test_average_precision': avg_precision,\n",
        "    'confusion_matrix': confusion_matrix(y_test, y_test_pred).tolist(),\n",
        "    'best_parameters': {k: v for k, v in best_rf.get_params().items()\n",
        "                       if k in ['max_depth', 'min_samples_split', 'min_samples_leaf',\n",
        "                               'n_estimators', 'max_features', 'class_weight']}\n",
        "}\n",
        "\n",
        "with open('model_performance_results.json', 'w') as f:\n",
        "    json.dump(results, f, indent=2)\n",
        "\n",
        "# Save the confusion matrix plot\n",
        "plt.figure(figsize=(8, 6))\n",
        "sns.heatmap(cm, annot=True, fmt='d', cmap='Blues')\n",
        "plt.title('Confusion Matrix - Heart Disease Classification')\n",
        "plt.ylabel('Actual')\n",
        "plt.xlabel('Predicted')\n",
        "plt.savefig('confusion_matrix.png', dpi=300, bbox_inches='tight')\n",
        "plt.close()\n",
        "\n",
        "# Save ROC curve\n",
        "plt.figure(figsize=(8, 6))\n",
        "fpr, tpr, _ = roc_curve(y_test, y_test_proba)\n",
        "plt.plot(fpr, tpr, label=f'ROC curve (AUC = {auc_score:.3f})')\n",
        "plt.plot([0, 1], [0, 1], 'k--')\n",
        "plt.xlabel('False Positive Rate')\n",
        "plt.ylabel('True Positive Rate')\n",
        "plt.title('ROC Curve')\n",
        "plt.legend()\n",
        "plt.savefig('roc_curve.png', dpi=300, bbox_inches='tight')\n",
        "plt.close()\n",
        "\n",
        "# Precision Recall curve\n",
        "plt.figure(figsize=(8, 6))\n",
        "precision, recall, _ = precision_recall_curve(y_test, y_test_proba)\n",
        "avg_precision = average_precision_score(y_test, y_test_proba)\n",
        "plt.plot(recall, precision, label=f'Precision-Recall curve (AP = {avg_precision:.3f})',\n",
        "         linewidth=2, color='red')\n",
        "plt.xlabel('Recall (True Positive Rate)')\n",
        "plt.ylabel('Precision')\n",
        "plt.title('Precision-Recall Curve - Heart Disease Classification')\n",
        "plt.legend()\n",
        "plt.grid(True, alpha=0.3)\n",
        "# Add important clinical thresholds\n",
        "plt.axhline(y=0.9, color='orange', linestyle='--', alpha=0.7, label='High Precision (90%)')\n",
        "plt.axvline(x=0.9, color='green', linestyle='--', alpha=0.7, label='High Recall (90%)')\n",
        "plt.savefig('precision_recall_curve.png', dpi=300, bbox_inches='tight')\n",
        "plt.close()\n",
        "\n",
        "# Combined ROC and PR Curve\n",
        "fig, (ax1, ax2) = plt.subplots(1, 2, figsize=(15, 6))\n",
        "# ROC Curve\n",
        "ax1.plot(fpr, tpr, label=f'ROC (AUC = {auc_score:.3f})', linewidth=2)\n",
        "ax1.plot([0, 1], [0, 1], 'k--', alpha=0.5)\n",
        "ax1.set_xlabel('False Positive Rate')\n",
        "ax1.set_ylabel('True Positive Rate')\n",
        "ax1.set_title('ROC Curve')\n",
        "ax1.legend()\n",
        "ax1.grid(True, alpha=0.3)\n",
        "# Precision-Recall Curve\n",
        "ax2.plot(recall, precision, label=f'PR (AP = {avg_precision:.3f})', linewidth=2, color='red')\n",
        "ax2.set_xlabel('Recall')\n",
        "ax2.set_ylabel('Precision')\n",
        "ax2.set_title('Precision-Recall Curve')\n",
        "ax2.legend()\n",
        "ax2.grid(True, alpha=0.3)\n",
        "plt.tight_layout()\n",
        "plt.savefig('combined_curves.png', dpi=300, bbox_inches='tight')\n",
        "plt.close()"
      ],
      "metadata": {
        "id": "K5IafW3B_EO9"
      },
      "execution_count": 17,
      "outputs": []
    }
  ]
}